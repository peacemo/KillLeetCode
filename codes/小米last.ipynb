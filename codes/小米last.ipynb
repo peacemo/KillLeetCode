{
 "cells": [
  {
   "cell_type": "markdown",
   "metadata": {},
   "source": [
    "假设有一个电池容量为4800单位的手机。现在，手机上面有一系列的任务需要串行完成。对于每一个任务，有其最低执行电量和执行消耗电量。例如，任务A的最低执行电量为12单位，执行消耗电量为2单位，那么任务A只有在电量大于等于12单位时才执行，且执行完A任务后消耗2单位电量。现在将一系列任务以（执行消耗电量:最低执行电量）的形式给出，并用逗号隔开每个任务，每个任务只执行一次！要求计算手机至少剩余多少电量时，才能执行完给出的一系列任务。如果电量耗尽依然无法执行完，则输出-1。例如输入：1:10,2:12,3:10，则返回13，表示最低需要13单位的电量才能串行执行完所有任务。请给出解决问题的算法思路。"
   ]
  },
  {
   "cell_type": "markdown",
   "metadata": {},
   "source": [
    "1:10,2:12,3:10\n",
    "\n",
    "13"
   ]
  },
  {
   "cell_type": "code",
   "execution_count": 3,
   "metadata": {},
   "outputs": [],
   "source": [
    "def task_sort(tasks:list, times:list, max_bat=4800):\n",
    "    left = min(times)\n",
    "    right = max_bat\n",
    "\n",
    "    while left < right:\n",
    "        mid = (left + right) // 2\n",
    "\n",
    "        if (mid - sum(tasks)) >= max():\n",
    "            right = mid\n",
    "        else:\n",
    "            left = mid\n",
    "\n",
    "    return right \n",
    "\n",
    "    pass\n",
    "\n",
    "tasks = [1, 2, 3]\n",
    "times = [10, 12, 10]\n",
    "\n",
    "res = task_sort(tasks, times)"
   ]
  },
  {
   "cell_type": "code",
   "execution_count": 8,
   "metadata": {},
   "outputs": [
    {
     "name": "stdout",
     "output_type": "stream",
     "text": [
      "4800\n"
     ]
    }
   ],
   "source": [
    "def calculate_min_battery(tasks):\n",
    "    # 将任务按照执行消耗电量从小到大排序\n",
    "    sorted_tasks = sorted(tasks, key=lambda x: x[0])\n",
    "\n",
    "    # 初始化动态规划数组\n",
    "    dp = [False] * 4801\n",
    "    dp[4800] = True\n",
    "\n",
    "    for consumption, required_battery in sorted_tasks:\n",
    "        for i in range(4800, required_battery - 1, -1):\n",
    "            dp[i] = dp[i] or dp[i - required_battery]\n",
    "\n",
    "    # 寻找最小的能够完成所有任务的电量\n",
    "    for i in range(4800, -1, -1):\n",
    "        if dp[i]:\n",
    "            return i\n",
    "\n",
    "    return -1  # 无法执行完所有任务\n",
    "\n",
    "# 测试示例\n",
    "tasks = [(1, 10), (2, 12), (3, 10)]\n",
    "result = calculate_min_battery(tasks)\n",
    "print(result)  # 输出13\n"
   ]
  },
  {
   "cell_type": "code",
   "execution_count": null,
   "metadata": {},
   "outputs": [],
   "source": [
    "class Solution:\n",
    "    def findDelayedArrivalTime(self, arrivalTime: int, delayedTime: int) -> int:\n",
    "        \n",
    "        s = arrivalTime + delayedTime\n",
    "\n",
    "        if s >= 24:\n",
    "            s = s % 24\n",
    "\n",
    "        return s"
   ]
  }
 ],
 "metadata": {
  "kernelspec": {
   "display_name": "ml",
   "language": "python",
   "name": "python3"
  },
  "language_info": {
   "codemirror_mode": {
    "name": "ipython",
    "version": 3
   },
   "file_extension": ".py",
   "mimetype": "text/x-python",
   "name": "python",
   "nbconvert_exporter": "python",
   "pygments_lexer": "ipython3",
   "version": "3.10.12"
  },
  "orig_nbformat": 4
 },
 "nbformat": 4,
 "nbformat_minor": 2
}
