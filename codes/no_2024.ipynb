{
 "cells": [
  {
   "cell_type": "markdown",
   "metadata": {},
   "source": [
    "一位老师正在出一场由 `n` 道判断题构成的考试，每道题的答案为 `true` （用 'T' 表示）或者 `false` （用 'F' 表示）。老师想增加学生对自己做出答案的不确定性，方法是 **最大化*** 有 **连续相同** 结果的题数。（也就是连续出现 `true` 或者连续出现 `false`）。\n",
    "\n",
    "给你一个字符串 `answerKey` ，其中  `answerKey[i]` 是第 `i` 个问题的正确结果。除此以外，还给你一个整数 `k` ，表示你能进行以下操作的最多次数：\n",
    "\n",
    "每次操作中，将问题的正确答案改为 'T' 或者 'F' （也就是将 `answerKey[i]` 改为 'T' 或者 'F' ）。\n",
    "请你返回在不超过 `k` 次操作的情况下，最大 连续 'T' 或者 'F' 的数目。\n",
    "\n",
    " \n",
    "\n",
    "示例 1：\n",
    "\n",
    "输入：answerKey = \"TTFF\", k = 2\n",
    "\n",
    "输出：4\n",
    "\n",
    "解释：我们可以将两个 'F' 都变为 'T' ，得到 answerKey = \"TTTT\" 。\n",
    "\n",
    "总共有四个连续的 'T' 。\n",
    "\n",
    "示例 2：\n",
    "\n",
    "输入：answerKey = \"TFFT\", k = 1\n",
    "\n",
    "输出：3\n",
    "\n",
    "解释：我们可以将最前面的 'T' 换成 'F' ，得到 answerKey = \"FFFT\" 。\n",
    "\n",
    "或者，我们可以将第二个 'T' 换成 'F' ，得到 answerKey = \"TFFF\" 。\n",
    "\n",
    "两种情况下，都有三个连续的 'F' 。\n",
    "\n",
    "示例 3：\n",
    "\n",
    "输入：answerKey = \"TTFTTFTT\", k = 1\n",
    "\n",
    "输出：5\n",
    "\n",
    "解释：我们可以将第一个 'F' 换成 'T' ，得到 answerKey = \"TTTTTFTT\" 。\n",
    "\n",
    "或者我们可以将第二个 'F' 换成 'T' ，得到 answerKey = \"TTFTTTTT\" 。\n",
    "\n",
    "两种情况下，都有五个连续的 'T' 。"
   ]
  },
  {
   "cell_type": "code",
   "execution_count": 4,
   "metadata": {},
   "outputs": [],
   "source": [
    "class Solution:\n",
    "    def maxConsecutiveAnswers(self, answerKey: str, k: int) -> int:\n",
    "        max_length = 0\n",
    "        count_t = count_f = 0\n",
    "        left = 0\n",
    "        \n",
    "        for right in range(len(answerKey)):\n",
    "            if answerKey[right] == 'T':\n",
    "                count_t += 1\n",
    "            else:\n",
    "                count_f += 1\n",
    "            \n",
    "            while min(count_t, count_f) > k:\n",
    "                if answerKey[left] == 'T':\n",
    "                    count_t -= 1\n",
    "                else:\n",
    "                    count_f -= 1\n",
    "                left += 1\n",
    "            \n",
    "            max_length = max(max_length, right - left + 1)\n",
    "        \n",
    "        return max_length\n"
   ]
  },
  {
   "cell_type": "code",
   "execution_count": 5,
   "metadata": {},
   "outputs": [
    {
     "data": {
      "text/plain": [
       "5"
      ]
     },
     "execution_count": 5,
     "metadata": {},
     "output_type": "execute_result"
    }
   ],
   "source": [
    "s = Solution()\n",
    "r = s.maxConsecutiveAnswers(\"TTFTTFTT\", 1)\n",
    "r"
   ]
  }
 ],
 "metadata": {
  "kernelspec": {
   "display_name": "torch110",
   "language": "python",
   "name": "python3"
  },
  "language_info": {
   "codemirror_mode": {
    "name": "ipython",
    "version": 3
   },
   "file_extension": ".py",
   "mimetype": "text/x-python",
   "name": "python",
   "nbconvert_exporter": "python",
   "pygments_lexer": "ipython3",
   "version": "3.12.4"
  }
 },
 "nbformat": 4,
 "nbformat_minor": 2
}
