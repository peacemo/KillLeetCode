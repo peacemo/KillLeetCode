{
 "cells": [
  {
   "cell_type": "code",
   "execution_count": 21,
   "metadata": {},
   "outputs": [],
   "source": [
    "class Solution:\n",
    "    def queensAttacktheKing(self, queens: list[list[int]], king: list[int]) -> list[list[int]]:\n",
    "        # 先确定每一个 queen 在哪个方向上 0(↑), 1(↓), 2(←), 3(→), 4(↗), 5(↘), 6(↙), 7(↖)\n",
    "        # 再对每个方向找和 king 距离最近的 queen\n",
    "        directions = [-1] * len(queens)\n",
    "        distances = [float('inf')] * len(queens)\n",
    "\n",
    "        for idx, queen in enumerate(queens):\n",
    "            if (queen[0] - king[0]) == 0 and (queen[1] - king[1]) > 0: \n",
    "                directions[idx] = 0  # 0\n",
    "                continue\n",
    "            if (queen[0] - king[0]) == 0 and (queen[1] - king[1]) < 0: \n",
    "                directions[idx] = 1  # 1\n",
    "                continue\n",
    "            if (queen[0] - king[0]) < 0 and (queen[1] - king[1]) == 0: \n",
    "                directions[idx] = 2  # 2\n",
    "                continue\n",
    "            if (queen[0] - king[0]) > 0 and (queen[1] - king[1]) == 0: \n",
    "                directions[idx] = 3  # 3\n",
    "                continue\n",
    "            if (queen[0] - king[0]) > 0 and (queen[1] - king[1]) > 0 and abs((queen[0] - king[0])) == abs((queen[1] - king[1])): \n",
    "                directions[idx] = 4  # 4\n",
    "                continue\n",
    "            if (queen[0] - king[0]) > 0 and (queen[1] - king[1]) < 0 and abs((queen[0] - king[0])) == abs((queen[1] - king[1])): \n",
    "                directions[idx] = 5  # 5\n",
    "                continue\n",
    "            if (queen[0] - king[0]) < 0 and (queen[1] - king[1]) < 0 and abs((queen[0] - king[0])) == abs((queen[1] - king[1])): \n",
    "                directions[idx] = 6  # 6\n",
    "                continue\n",
    "            if (queen[0] - king[0]) < 0 and (queen[1] - king[1]) > 0 and abs((queen[0] - king[0])) == abs((queen[1] - king[1])): \n",
    "                directions[idx] = 7  # 7\n",
    "                continue\n",
    "\n",
    "            # 其他的默认都是 -1\n",
    "            pass\n",
    "\n",
    "        for i in range(len(directions)):\n",
    "            if directions[i] == -1: continue\n",
    "            distances[i] = (queens[i][0] - king[0]) ** 2 + (queens[i][1] - king[1]) ** 2\n",
    "\n",
    "        min_in_each_direc = [float('inf')] * 8\n",
    "        min_queens = [None] * 8\n",
    "        for i in range(len(distances)):\n",
    "            if distances[i] == float('inf'): continue\n",
    "\n",
    "            if distances[i] < min_in_each_direc[directions[i]]:\n",
    "                min_in_each_direc[directions[i]] = distances[i]\n",
    "                min_queens[directions[i]] = queens[i]\n",
    "\n",
    "        min_queens = [q for q in min_queens if q ]\n",
    "        return min_queens\n",
    "        pass"
   ]
  },
  {
   "cell_type": "code",
   "execution_count": 22,
   "metadata": {},
   "outputs": [
    {
     "data": {
      "text/plain": [
       "[[3, 7], [1, 4], [5, 4], [4, 5], [4, 3], [2, 3], [1, 6]]"
      ]
     },
     "execution_count": 22,
     "metadata": {},
     "output_type": "execute_result"
    }
   ],
   "source": [
    "queens = [[5,6],[7,7],[2,1],[0,7],[1,6],[5,1],[3,7],[0,3],[4,0],[1,2],[6,3],[5,0],[0,4],[2,2],[1,1],[6,4],[5,4],[0,0],[2,6],[4,5],[5,2],[1,4],[7,5],[2,3],[0,5],[4,2],[1,0],[2,7],[0,1],[4,6],[6,1],[0,6],[4,3],[1,7]]\n",
    "king = [3,4]\n",
    "s = Solution()\n",
    "r = s.queensAttacktheKing(queens, king)\n",
    "r"
   ]
  }
 ],
 "metadata": {
  "kernelspec": {
   "display_name": "ml",
   "language": "python",
   "name": "python3"
  },
  "language_info": {
   "codemirror_mode": {
    "name": "ipython",
    "version": 3
   },
   "file_extension": ".py",
   "mimetype": "text/x-python",
   "name": "python",
   "nbconvert_exporter": "python",
   "pygments_lexer": "ipython3",
   "version": "3.10.12"
  },
  "orig_nbformat": 4
 },
 "nbformat": 4,
 "nbformat_minor": 2
}
