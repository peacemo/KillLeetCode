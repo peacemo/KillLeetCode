{
 "cells": [
  {
   "cell_type": "code",
   "execution_count": 11,
   "metadata": {},
   "outputs": [],
   "source": [
    "from typing import List, Tuple\n",
    "\n",
    "class Solution:\n",
    "    \"\"\"\n",
    "    该类用于计算数字列表中所有数字对的数字差异总和。\n",
    "    \"\"\"\n",
    "\n",
    "    def sumDigitDifferences(self, nums: List[int]) -> int:\n",
    "        \"\"\"\n",
    "        计算给定数字列表中所有数字对的数字差异总和。\n",
    "\n",
    "        参数:\n",
    "        nums (List[int]): 整数列表\n",
    "\n",
    "        返回:\n",
    "        int: 所有数字对的数字差异总和\n",
    "        \"\"\"\n",
    "        r_dict = {}\n",
    "        result = 0\n",
    "        \n",
    "        for i in range(len(nums)):\n",
    "            for j in range(i+1, len(nums)):\n",
    "                num1, num2 = nums[i], nums[j]\n",
    "                keys = self.mapping(num1, num2)\n",
    "                try:\n",
    "                    result += r_dict[self.mapping(num1, num2)]\n",
    "                    print('hit')\n",
    "                except:\n",
    "                    diff = self.getDiff(num1, num2)\n",
    "                    r_dict[keys[0]] = diff\n",
    "                    r_dict[keys[1]] = diff\n",
    "                    result += diff\n",
    "                pass\n",
    "        return result\n",
    "        pass\n",
    "\n",
    "    def getDiff(self, num1: int, num2: int) -> int:\n",
    "        \"\"\"\n",
    "        计算两个数字之间的数字差异。\n",
    "\n",
    "        参数:\n",
    "        num1 (int): 第一个数字\n",
    "        num2 (int): 第二个数字\n",
    "\n",
    "        返回:\n",
    "        int: 两个数字之间的数字差异\n",
    "        \"\"\"\n",
    "        result = 0\n",
    "        if num1 < 10 and num2 < 10:\n",
    "            return 1 if num1 != num2 else 0\n",
    "        if num1 % 10 != num2 % 10:\n",
    "            return 1 + self.getDiff(num1 // 10, num2 // 10)\n",
    "        else:\n",
    "            return 0 + self.getDiff(num1 // 10, num2 // 10)\n",
    "        \n",
    "        # while (num1 // 10) != 0:\n",
    "        #     dig1 = num1 % 10\n",
    "        #     dig2 = num2 % 10\n",
    "        #     if dig1 != dig2:\n",
    "        #         result += 1\n",
    "\n",
    "        #     num1 = num1 // 10\n",
    "        #     num2 = num2 // 10\n",
    "\n",
    "        # result += 1 if num1 != num2 else 0\n",
    "        # return result\n",
    "        # pass\n",
    "    \n",
    "    def mapping(self, num1: int, num2: int) -> Tuple[float, float]:\n",
    "        \"\"\"\n",
    "        为两个数字生成唯一的映射键。\n",
    "\n",
    "        参数:\n",
    "        num1 (int): 第一个数字\n",
    "        num2 (int): 第二个数字\n",
    "\n",
    "        返回:\n",
    "        Tuple[float, float]: 两个数字的唯一映射键\n",
    "        \"\"\"\n",
    "        return 0.5 * (num1 + num2) * (num1 + num2 + 1) + num2, 0.5 * (num1 + num2) * (num1 + num2 + 1) + num1"
   ]
  },
  {
   "cell_type": "code",
   "execution_count": 12,
   "metadata": {},
   "outputs": [
    {
     "data": {
      "text/plain": [
       "4"
      ]
     },
     "execution_count": 12,
     "metadata": {},
     "output_type": "execute_result"
    }
   ],
   "source": [
    "solution = Solution()\n",
    "r = solution.sumDigitDifferences([12,13,23])\n",
    "r"
   ]
  },
  {
   "cell_type": "code",
   "execution_count": 15,
   "metadata": {},
   "outputs": [],
   "source": [
    "from typing import List\n",
    "\n",
    "class Solution:\n",
    "    \"\"\"\n",
    "    该类用于计算数字列表中所有数字对的数字差异总和。\n",
    "    \"\"\"\n",
    "\n",
    "    def sumDigitDifferences(self, nums: List[int]) -> int:\n",
    "        \"\"\"\n",
    "        计算给定数字列表中所有数字对的数字差异总和。\n",
    "\n",
    "        参数:\n",
    "        nums (List[int]): 整数列表\n",
    "\n",
    "        返回:\n",
    "        int: 所有数字对的数字差异总和\n",
    "        \"\"\"\n",
    "        cache = {}\n",
    "        result = 0\n",
    "        \n",
    "        for i in range(len(nums)):\n",
    "            for j in range(i+1, len(nums)):\n",
    "                num1, num2 = nums[i], nums[j]\n",
    "                key = (min(num1, num2), max(num1, num2))\n",
    "                \n",
    "                if key in cache:\n",
    "                    result += cache[key]\n",
    "                else:\n",
    "                    diff = self.getDiff(num1, num2)\n",
    "                    cache[key] = diff\n",
    "                    result += diff\n",
    "        \n",
    "        return result\n",
    "\n",
    "    def getDiff(self, num1: int, num2: int) -> int:\n",
    "        \"\"\"\n",
    "        计算两个数字之间的数字差异。\n",
    "\n",
    "        参数:\n",
    "        num1 (int): 第一个数字\n",
    "        num2 (int): 第二个数字\n",
    "\n",
    "        返回:\n",
    "        int: 两个数字之间的数字差异\n",
    "        \"\"\"\n",
    "        if num1 == num2:\n",
    "            return 0\n",
    "        \n",
    "        diff = 0\n",
    "        while num1 or num2:\n",
    "            if num1 % 10 != num2 % 10:\n",
    "                diff += 1\n",
    "            num1 //= 10\n",
    "            num2 //= 10\n",
    "        \n",
    "        return diff"
   ]
  },
  {
   "cell_type": "code",
   "execution_count": 16,
   "metadata": {},
   "outputs": [
    {
     "data": {
      "text/plain": [
       "4"
      ]
     },
     "execution_count": 16,
     "metadata": {},
     "output_type": "execute_result"
    }
   ],
   "source": [
    "s = Solution()\n",
    "r = s.sumDigitDifferences([12,13,23])\n",
    "r   "
   ]
  },
  {
   "cell_type": "code",
   "execution_count": null,
   "metadata": {},
   "outputs": [],
   "source": [
    "class Solution:\n",
    "    def sumDigitDifferences(self, nums: List[int]) -> int:\n",
    "        ans = 0\n",
    "        cnt = [[0] * 10 for _ in str(nums[0])]\n",
    "        for k, x in enumerate(nums):\n",
    "            i = 0\n",
    "            while x:\n",
    "                x, d = divmod(x, 10)\n",
    "                ans += k - cnt[i][d]\n",
    "                cnt[i][d] += 1\n",
    "                i += 1\n",
    "        return ans\n",
    "\n",
    "# 作者：灵茶山艾府\n",
    "# 链接：https://leetcode.cn/problems/sum-of-digit-differences-of-all-pairs/solutions/2782811/chai-wei-suan-gong-xian-yi-ci-bian-li-by-46rf/\n",
    "# 来源：力扣（LeetCode）\n",
    "# 著作权归作者所有。商业转载请联系作者获得授权，非商业转载请注明出处。"
   ]
  }
 ],
 "metadata": {
  "kernelspec": {
   "display_name": "yolo",
   "language": "python",
   "name": "python3"
  },
  "language_info": {
   "codemirror_mode": {
    "name": "ipython",
    "version": 3
   },
   "file_extension": ".py",
   "mimetype": "text/x-python",
   "name": "python",
   "nbconvert_exporter": "python",
   "pygments_lexer": "ipython3",
   "version": "3.12.4"
  }
 },
 "nbformat": 4,
 "nbformat_minor": 2
}
