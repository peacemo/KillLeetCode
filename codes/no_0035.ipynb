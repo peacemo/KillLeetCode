{
 "cells": [
  {
   "cell_type": "code",
   "execution_count": 4,
   "metadata": {},
   "outputs": [],
   "source": [
    "from typing import List\n",
    "\n",
    "class Solution:\n",
    "    def searchInsert(self, nums: List[int], target: int) -> int:\n",
    "        left, right = 0, len(nums)\n",
    "\n",
    "        while left < right:\n",
    "            mid = left + (right - left) // 2\n",
    "            if nums[mid] < target:\n",
    "                left = mid + 1\n",
    "            else:\n",
    "                right = mid\n",
    "\n",
    "        return left\n"
   ]
  },
  {
   "cell_type": "code",
   "execution_count": 5,
   "metadata": {},
   "outputs": [
    {
     "name": "stdout",
     "output_type": "stream",
     "text": [
      "所有测试用例通过！\n"
     ]
    }
   ],
   "source": [
    "# 单元测试\n",
    "def test_searchInsert():\n",
    "    solution = Solution()\n",
    "    \n",
    "    # 测试基本情况\n",
    "    assert solution.searchInsert([1,3,5,6], 5) == 2\n",
    "    assert solution.searchInsert([1,3,5,6], 2) == 1\n",
    "    assert solution.searchInsert([1,3,5,6], 7) == 4\n",
    "    \n",
    "    # 测试边界条件\n",
    "    assert solution.searchInsert([], 1) == 0  # 空列表\n",
    "    assert solution.searchInsert([1], 0) == 0  # 目标小于所有元素\n",
    "    assert solution.searchInsert([1], 2) == 1  # 目标大于所有元素\n",
    "    assert solution.searchInsert([1,3,5,7], 6) == 3  # 目标在中间但不存在\n",
    "    \n",
    "    print(\"所有测试用例通过！\")\n",
    "\n",
    "# 运行测试\n",
    "test_searchInsert()\n"
   ]
  }
 ],
 "metadata": {
  "kernelspec": {
   "display_name": "torch110",
   "language": "python",
   "name": "python3"
  },
  "language_info": {
   "codemirror_mode": {
    "name": "ipython",
    "version": 3
   },
   "file_extension": ".py",
   "mimetype": "text/x-python",
   "name": "python",
   "nbconvert_exporter": "python",
   "pygments_lexer": "ipython3",
   "version": "3.12.4"
  }
 },
 "nbformat": 4,
 "nbformat_minor": 2
}
