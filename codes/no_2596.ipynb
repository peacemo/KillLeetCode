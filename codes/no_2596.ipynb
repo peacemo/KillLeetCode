{
 "cells": [
  {
   "cell_type": "code",
   "execution_count": 42,
   "metadata": {},
   "outputs": [],
   "source": [
    "import numpy as np\n",
    "\n",
    "class Solution:\n",
    "    def check(self, grid, current_spot):\n",
    "        current_spot = np.array(current_spot).astype(int)\n",
    "        is_okay = False\n",
    "        directions = np.array([[-2, -1], [-2, 1], [-1, -2], [-1, 2], [1, -2], [1, 2], [2, -1], [2, 1]]).astype(int)\n",
    "\n",
    "        for direction in directions:\n",
    "            next_spot = current_spot + direction\n",
    "            if (0 <= next_spot).all() and (next_spot < len(grid)).all():\n",
    "                if grid[next_spot[0]][next_spot[1]] == grid[current_spot[0]][current_spot[1]] + 1:\n",
    "                    is_okay = True\n",
    "                    return is_okay, next_spot\n",
    "            else: continue\n",
    "\n",
    "        return is_okay, current_spot\n",
    "\n",
    "    def checkValidGrid(self, grid: list[list[int]]) -> bool:\n",
    "        if grid[0][0] != 0: return False\n",
    "        \n",
    "        is_okay = True\n",
    "        current_spot = np.array([0,0])\n",
    "\n",
    "        while is_okay:\n",
    "            is_okay, current_spot = self.check(grid, current_spot)\n",
    "            if grid[current_spot[0]][current_spot[1]] == len(grid) ** 2 - 1: \n",
    "                break\n",
    "\n",
    "        return is_okay\n",
    "\n",
    "        pass"
   ]
  },
  {
   "cell_type": "code",
   "execution_count": 43,
   "metadata": {},
   "outputs": [],
   "source": [
    "grid = [[24,11,22,17,4],[21,16,5,12,9],[6,23,10,3,18],[15,20,1,8,13],[0,7,14,19,2]]\n",
    "s = Solution()\n",
    "r = s.checkValidGrid(grid=grid)"
   ]
  },
  {
   "cell_type": "code",
   "execution_count": 44,
   "metadata": {},
   "outputs": [
    {
     "data": {
      "text/plain": [
       "False"
      ]
     },
     "execution_count": 44,
     "metadata": {},
     "output_type": "execute_result"
    }
   ],
   "source": [
    "r"
   ]
  }
 ],
 "metadata": {
  "kernelspec": {
   "display_name": "ml",
   "language": "python",
   "name": "python3"
  },
  "language_info": {
   "codemirror_mode": {
    "name": "ipython",
    "version": 3
   },
   "file_extension": ".py",
   "mimetype": "text/x-python",
   "name": "python",
   "nbconvert_exporter": "python",
   "pygments_lexer": "ipython3",
   "version": "3.10.12"
  },
  "orig_nbformat": 4
 },
 "nbformat": 4,
 "nbformat_minor": 2
}
