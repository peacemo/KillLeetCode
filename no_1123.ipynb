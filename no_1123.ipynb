{
 "cells": [
  {
   "cell_type": "code",
   "execution_count": 5,
   "metadata": {},
   "outputs": [],
   "source": [
    "import numpy as np\n",
    "\n",
    "# Definition for a binary tree node.\n",
    "class TreeNode:\n",
    "    def __init__(self, val=0, left=None, right=None):\n",
    "        self.val = val\n",
    "        self.left = left\n",
    "        self.right = right\n",
    "\n",
    "\n",
    "class Solution:\n",
    "    def in_order_search(self, root:TreeNode):\n",
    "        if not root:\n",
    "            return None, 0\n",
    "\n",
    "        l, d1 = self.in_order_search(root.left)\n",
    "        r, d2 = self.in_order_search(root.right)\n",
    "\n",
    "        if d1 > d2:\n",
    "            return l, d1 + 1\n",
    "        if d1 < d2: \n",
    "            return r, d2 + 1\n",
    "\n",
    "        return root, d1 + 1\n",
    "\n",
    "\n",
    "    def lcaDeepestLeaves(self, root: TreeNode) -> TreeNode:\n",
    "        return self.in_order_search(root)[0]\n",
    "            \n",
    "\n",
    "root = TreeNode(3)\n",
    "root.left = TreeNode(5)\n",
    "root.left.left = TreeNode(6)\n",
    "root.left.right = TreeNode(2)\n",
    "# root.left.right.left = TreeNode(7)\n",
    "# root.left.right.right = TreeNode(4)\n",
    "root.right = TreeNode(1)\n",
    "root.right.left = TreeNode(0)\n",
    "root.right.right = TreeNode(8)"
   ]
  },
  {
   "cell_type": "code",
   "execution_count": 6,
   "metadata": {},
   "outputs": [],
   "source": [
    "solution = Solution()\n",
    "res = solution.lcaDeepestLeaves(root)"
   ]
  },
  {
   "cell_type": "code",
   "execution_count": 8,
   "metadata": {},
   "outputs": [
    {
     "data": {
      "text/plain": [
       "3"
      ]
     },
     "execution_count": 8,
     "metadata": {},
     "output_type": "execute_result"
    }
   ],
   "source": [
    "res.val"
   ]
  }
 ],
 "metadata": {
  "kernelspec": {
   "display_name": "ml",
   "language": "python",
   "name": "python3"
  },
  "language_info": {
   "codemirror_mode": {
    "name": "ipython",
    "version": 3
   },
   "file_extension": ".py",
   "mimetype": "text/x-python",
   "name": "python",
   "nbconvert_exporter": "python",
   "pygments_lexer": "ipython3",
   "version": "3.10.12"
  },
  "orig_nbformat": 4
 },
 "nbformat": 4,
 "nbformat_minor": 2
}
