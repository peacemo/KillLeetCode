{
 "cells": [
  {
   "cell_type": "code",
   "execution_count": 115,
   "metadata": {},
   "outputs": [],
   "source": [
    "class Solution:\n",
    "    def checkIfPrerequisite(\n",
    "        self, numCourses: int, prerequisites: list[list[int]], queries: list[list[int]]\n",
    "    ) -> list[bool]:\n",
    "        f = [[False] * numCourses for _ in range(numCourses)]\n",
    "        for a, b in prerequisites:\n",
    "            f[a][b] = True\n",
    "        for k in range(numCourses):\n",
    "            for i in range(numCourses):\n",
    "                for j in range(numCourses):\n",
    "                    if f[i][k] and f[k][j]:\n",
    "                        f[i][j] = True\n",
    "        return [f[a][b] for a, b in queries]"
   ]
  },
  {
   "cell_type": "code",
   "execution_count": 116,
   "metadata": {},
   "outputs": [],
   "source": [
    "solution = Solution()\n",
    "prerequisites = [[2,3],[2,1],[2,0],[3,4],[3,6],[5,1],[5,0],[1,4],[1,0],[4,0],[0,6]]\n",
    "queries = [[3,0],[6,4],[5,6],[2,6],[2,3],[5,6],[4,0],[2,6],[3,5],[5,3],[1,6],[1,0],[3,5],[6,5],[2,3],[3,0],[3,4],[3,4],[2,5],[0,3],[4,0],[6,4],[5,0],[6,5],[5,6],[6,5],[1,0],[3,4],[1,5],[1,4],[3,6],[0,1],[1,2],[5,1],[5,3],[5,3],[3,4],[5,4],[5,4],[5,3]]\n",
    "result = solution.checkIfPrerequisite(numCourses = 7, prerequisites = prerequisites, queries = queries)"
   ]
  },
  {
   "cell_type": "code",
   "execution_count": 117,
   "metadata": {},
   "outputs": [
    {
     "data": {
      "text/plain": [
       "True"
      ]
     },
     "execution_count": 117,
     "metadata": {},
     "output_type": "execute_result"
    }
   ],
   "source": [
    "result == [True,False,True,True,True,True,True,True,False,False,True,True,False,False,True,True,True,True,False,False,True,False,True,False,True,False,True,True,False,True,True,False,False,True,False,False,True,True,True,False]"
   ]
  }
 ],
 "metadata": {
  "kernelspec": {
   "display_name": "ml",
   "language": "python",
   "name": "python3"
  },
  "language_info": {
   "codemirror_mode": {
    "name": "ipython",
    "version": 3
   },
   "file_extension": ".py",
   "mimetype": "text/x-python",
   "name": "python",
   "nbconvert_exporter": "python",
   "pygments_lexer": "ipython3",
   "version": "3.10.12"
  },
  "orig_nbformat": 4
 },
 "nbformat": 4,
 "nbformat_minor": 2
}
